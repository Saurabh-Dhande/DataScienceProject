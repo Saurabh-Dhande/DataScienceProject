{
 "cells": [
  {
   "cell_type": "markdown",
   "metadata": {
    "id": "9rQegm9NFzPU"
   },
   "source": [
    "**Assignment 2 Image captioning Digits**"
   ]
  },
  {
   "cell_type": "markdown",
   "metadata": {
    "id": "Ybv8RyXbGSxm"
   },
   "source": [
    "Group-71\n"
   ]
  },
  {
   "cell_type": "markdown",
   "metadata": {
    "id": "uUFrvHS9GWvx"
   },
   "source": [
    "Name : \n",
    "Saurabh Arunrao Dhande - 2021FC04700"
   ]
  },
  {
   "cell_type": "code",
   "execution_count": 34,
   "metadata": {
    "id": "L1VyArcquiqw"
   },
   "outputs": [],
   "source": [
    "# Import necessary libraries\n",
    "import tensorflow as tf\n",
    "from tensorflow import keras\n",
    "from tensorflow.keras import layers\n",
    "import matplotlib.pyplot as plt\n",
    "import numpy as np"
   ]
  },
  {
   "cell_type": "markdown",
   "metadata": {
    "id": "yLuU6SnTguyq"
   },
   "source": [
    "**Data Procession**"
   ]
  },
  {
   "cell_type": "code",
   "execution_count": 2,
   "metadata": {
    "colab": {
     "base_uri": "https://localhost:8080/",
     "height": 0
    },
    "id": "xOM88JTXutYT",
    "outputId": "e2f7675f-918b-4eca-9e21-27dc8b3d0416"
   },
   "outputs": [
    {
     "name": "stdout",
     "output_type": "stream",
     "text": [
      "Downloading data from https://storage.googleapis.com/tensorflow/tf-keras-datasets/mnist.npz\n",
      "11490434/11490434 [==============================] - 1s 0us/step\n",
      "(60000, 28, 28)\n",
      "(60000,)\n",
      "(10000, 28, 28)\n",
      "(10000,)\n"
     ]
    }
   ],
   "source": [
    "# Load MNIST dataset\n",
    "tf.keras.datasets.mnist.load_data(path=\"mnist.npz\")\n",
    "(x_train, y_train), (x_test, y_test) = keras.datasets.mnist.load_data()\n",
    "print(x_train.shape)\n",
    "print(y_train.shape)\n",
    "print(x_test.shape)\n",
    "print(y_test.shape)"
   ]
  },
  {
   "cell_type": "code",
   "execution_count": 4,
   "metadata": {
    "colab": {
     "base_uri": "https://localhost:8080/",
     "height": 511
    },
    "id": "hnrHJ3-XkW6q",
    "outputId": "05759323-05fb-41db-dcbd-b24934fdd340"
   },
   "outputs": [
    {
     "data": {
      "image/png": "[encoded data removed]",
      "text/plain": [
       "<Figure size 432x288 with 1 Axes>"
      ]
     },
     "metadata": {
      "needs_background": "light"
     },
     "output_type": "display_data"
    },
    {
     "data": {
      "image/png": "[encoded data removed]",
      "text/plain": [
       "<Figure size 432x288 with 1 Axes>"
      ]
     },
     "metadata": {
      "needs_background": "light"
     },
     "output_type": "display_data"
    }
   ],
   "source": [
    "# Generate random indices for two samples\n",
    "sample_1,sample_2  = np.random.randint(0, len(x_train), size=2)\n",
    "\n",
    "# Plot the first sample\n",
    "plt.figure()\n",
    "plt.imshow(x_train[sample_1], cmap='gray')\n",
    "plt.title(\"caption_digit: \" + str(y_train[sample_1]))\n",
    "plt.axis('off')\n",
    "\n",
    "# Plot the second sample\n",
    "plt.figure()\n",
    "plt.imshow(x_train[sample_2], cmap='gray')\n",
    "plt.title(\"caption_digit: \" + str(y_train[sample_2]))\n",
    "plt.axis('off')\n",
    "\n",
    "plt.show()\n"
   ]
  },
  {
   "cell_type": "code",
   "execution_count": 5,
   "metadata": {
    "colab": {
     "base_uri": "https://localhost:8080/",
     "height": 0
    },
    "id": "d7i0nY9sxsMa",
    "outputId": "cf13d506-8fcb-4026-c79e-edf3aafb72bf"
   },
   "outputs": [
    {
     "name": "stdout",
     "output_type": "stream",
     "text": [
      "[[0. 0. 0. ... 0. 0. 0.]\n",
      " [1. 0. 0. ... 0. 0. 0.]\n",
      " [0. 0. 0. ... 0. 0. 0.]\n",
      " ...\n",
      " [0. 0. 0. ... 0. 0. 0.]\n",
      " [0. 0. 0. ... 0. 0. 0.]\n",
      " [0. 0. 0. ... 0. 1. 0.]]\n",
      "[[0. 0. 0. ... 1. 0. 0.]\n",
      " [0. 0. 1. ... 0. 0. 0.]\n",
      " [0. 1. 0. ... 0. 0. 0.]\n",
      " ...\n",
      " [0. 0. 0. ... 0. 0. 0.]\n",
      " [0. 0. 0. ... 0. 0. 0.]\n",
      " [0. 0. 0. ... 0. 0. 0.]]\n"
     ]
    }
   ],
   "source": [
    "#updating replacing inter with string of number in y_train and y_test\n",
    "int_to_str = {\n",
    "    0: 'zero',1: 'one',2: 'two',3: 'three',4: 'four',5: 'five',6: 'six',7: 'seven',8: 'eight',9: 'nine',\n",
    "}\n",
    "\n",
    "str_to_int = {v: k for k, v in int_to_str.items()}  # create new dictionary to map string labels to integer values\n",
    "\n",
    "y_test = [int_to_str[num] if isinstance(num, int) else num for num in y_test]\n",
    "y_train = [int_to_str[num] if isinstance(num, int) else num for num in y_train]\n",
    "\n",
    "y_test = [str_to_int[label] if label in str_to_int else label for label in y_test]  # convert string labels back to integer values\n",
    "y_train = [str_to_int[label] if label in str_to_int else label for label in y_train]  # convert string labels back to integer values\n",
    "\n",
    "y_train = keras.utils.to_categorical(y_train, 10)\n",
    "y_test = keras.utils.to_categorical(y_test, 10)\n",
    "\n",
    "print(y_train)\n",
    "print(y_test)\n",
    "\n"
   ]
  },
  {
   "cell_type": "code",
   "execution_count": 6,
   "metadata": {
    "id": "KI1Dd6iTy7xo"
   },
   "outputs": [],
   "source": [
    "# Reshape and normalize input data\n",
    "x_train = x_train.reshape((-1, 28, 28, 1))\n",
    "x_test = x_test.reshape((-1, 28, 28, 1))\n",
    "x_train = x_train / 255.0\n",
    "x_test = x_test / 255.0"
   ]
  },
  {
   "cell_type": "markdown",
   "metadata": {
    "id": "gFkH0PUHg-NB"
   },
   "source": [
    "***Model Building***"
   ]
  },
  {
   "cell_type": "markdown",
   "metadata": {
    "id": "KBABn_PJirrr"
   },
   "source": [
    "layers.Conv2D(filters=32, kernel_size=(3, 3), activation='relu', input_shape=(28, 28, 1)): This layer applies 32 filters of size 3x3 to the input image of size 28x28x1, and uses the ReLU activation function. The choice of 32 filters is a common default in many CNN architectures, and the use of ReLU activation helps introduce non-linearity into the model.\n",
    "\n",
    "layers.MaxPooling2D(pool_size=(2, 2)): This layer performs max pooling on the output of the previous convolutional layer, reducing the spatial dimensions of the output by a factor of 2 in each dimension. This helps reduce the number of parameters in the model and introduces some degree of translation invariance.\n",
    "\n",
    "layers.Reshape(target_shape=(5408,)): This layer reshapes the output of the previous layer into a 1D array of size 5408. This is required to feed the output to the next LSTM layer.\n",
    "\n",
    "layers.RepeatVector(28): This layer repeats the output of the previous layer 28 times, which is necessary for feeding the data to the LSTM layer in a sequence format.\n",
    "\n",
    "layers.LSTM(units=64, return_sequences=True): This layer applies an LSTM layer with 64 units and returns the output sequence. LSTMs are commonly used in sequence modeling tasks due to their ability to capture long-term dependencies.\n",
    "\n",
    "layers.Flatten(): This layer flattens the output of the LSTM layer into a 1D array.\n",
    "\n",
    "layers.Dense(units=10, activation='softmax'): This layer applies a dense layer with 10 units and a softmax activation function. The softmax function is commonly used for multi-class classification tasks to output probability scores for each class."
   ]
  },
  {
   "cell_type": "code",
   "execution_count": 27,
   "metadata": {
    "colab": {
     "base_uri": "https://localhost:8080/",
     "height": 0
    },
    "id": "U1exS6Zv58HA",
    "outputId": "41913ca1-b963-46cb-ec60-fb285078dc0b"
   },
   "outputs": [
    {
     "name": "stdout",
     "output_type": "stream",
     "text": [
      "Model: \"sequential_1\"\n",
      "_________________________________________________________________\n",
      " Layer (type)                Output Shape              Param #   \n",
      "=================================================================\n",
      " conv2d_2 (Conv2D)           (None, 26, 26, 32)        320       \n",
      "                                                                 \n",
      " max_pooling2d_2 (MaxPooling  (None, 13, 13, 32)       0         \n",
      " 2D)                                                             \n",
      "                                                                 \n",
      " conv2d_3 (Conv2D)           (None, 11, 11, 64)        18496     \n",
      "                                                                 \n",
      " max_pooling2d_3 (MaxPooling  (None, 5, 5, 64)         0         \n",
      " 2D)                                                             \n",
      "                                                                 \n",
      " reshape_1 (Reshape)         (None, 1600)              0         \n",
      "                                                                 \n",
      " repeat_vector_1 (RepeatVect  (None, 28, 1600)         0         \n",
      " or)                                                             \n",
      "                                                                 \n",
      " lstm_1 (LSTM)               (None, 28, 64)            426240    \n",
      "                                                                 \n",
      " flatten_1 (Flatten)         (None, 1792)              0         \n",
      "                                                                 \n",
      " dense_1 (Dense)             (None, 10)                17930     \n",
      "                                                                 \n",
      "=================================================================\n",
      "Total params: 462,986\n",
      "Trainable params: 462,986\n",
      "Non-trainable params: 0\n",
      "_________________________________________________________________\n"
     ]
    }
   ],
   "source": [
    "# Define CNN+LSTM model architecture\n",
    "model = keras.Sequential([\n",
    "    layers.Conv2D(filters=32, kernel_size=(3, 3), activation='relu', input_shape=(28, 28, 1)),\n",
    "    layers.MaxPooling2D(pool_size=(2, 2)),\n",
    "    layers.Conv2D(filters=64, kernel_size=(3, 3), activation='relu'),\n",
    "    layers.MaxPooling2D(pool_size=(2, 2)),\n",
    "    layers.Reshape(target_shape=(1600,)),\n",
    "    layers.RepeatVector(28),\n",
    "    layers.LSTM(units=64, return_sequences=True),\n",
    "    layers.Flatten(),\n",
    "    layers.Dense(units=10, activation='softmax')\n",
    "])\n",
    "\n",
    "model.summary()\n"
   ]
  },
  {
   "cell_type": "markdown",
   "metadata": {
    "id": "n0jcKqhshT-d"
   },
   "source": [
    "***Model Compilation***"
   ]
  },
  {
   "cell_type": "markdown",
   "metadata": {
    "id": "WyEd4nz9lX29"
   },
   "source": [
    "The choice of learning rate, optimizer, and loss function in a deep learning model plays a critical role in determining its performance. In the given code snippet, the Adam optimizer with a default learning rate of 0.001 is used, which is a commonly used optimizer for deep learning models. The choice of the categorical cross-entropy loss function is appropriate for multi-class classification problems. However, selecting the optimal values of these hyperparameters can be a challenging task and may require experimenting with different values. It is important to evaluate the performance of the model on a validation set to determine the best configuration for these hyperparameters to achieve optimal performance."
   ]
  },
  {
   "cell_type": "code",
   "execution_count": 28,
   "metadata": {
    "id": "h3ylUzlN6IB-"
   },
   "outputs": [],
   "source": [
    "# Compile model\n",
    "model.compile(optimizer='adam', loss='categorical_crossentropy', metrics=['accuracy'])"
   ]
  },
  {
   "cell_type": "markdown",
   "metadata": {
    "id": "n-7OmEOEhb5q"
   },
   "source": [
    "***Model Training***"
   ]
  },
  {
   "cell_type": "code",
   "execution_count": 29,
   "metadata": {
    "colab": {
     "base_uri": "https://localhost:8080/",
     "height": 0
    },
    "id": "79O2XU3V6Mbp",
    "outputId": "4aad8d52-ede5-4e5b-901e-30be92e9bbcf"
   },
   "outputs": [
    {
     "name": "stdout",
     "output_type": "stream",
     "text": [
      "1875/1875 [==============================] - 278s 146ms/step - loss: 0.1147 - accuracy: 0.9638 - val_loss: 0.0438 - val_accuracy: 0.9868\n"
     ]
    }
   ],
   "source": [
    "# Train model\n",
    "history = model.fit(x_train, y_train, epochs=1, batch_size=32, validation_data=(x_test, y_test))"
   ]
  },
  {
   "cell_type": "markdown",
   "metadata": {
    "id": "yyuOAUdRGjVY"
   },
   "source": [
    "Note : I used epoch = 1 while fitting model because when i am trying to use epoch > 1 then google colab is getting crashed, because of this I was not able to plot loss and accuracy history graphs for both train and validation set. "
   ]
  },
  {
   "cell_type": "code",
   "execution_count": 30,
   "metadata": {
    "colab": {
     "base_uri": "https://localhost:8080/",
     "height": 573
    },
    "id": "7X_8XEbWO3-b",
    "outputId": "1d63db21-55b1-4979-b88f-76032aa70d36"
   },
   "outputs": [
    {
     "data": {
      "image/png": "[encoded data removed]",
      "text/plain": [
       "<Figure size 432x288 with 1 Axes>"
      ]
     },
     "metadata": {
      "needs_background": "light"
     },
     "output_type": "display_data"
    },
    {
     "data": {
      "image/png": "[encoded data removed]",
      "text/plain": [
       "<Figure size 432x288 with 1 Axes>"
      ]
     },
     "metadata": {
      "needs_background": "light"
     },
     "output_type": "display_data"
    }
   ],
   "source": [
    "plt.plot(history.history['loss'])\n",
    "plt.plot(history.history['val_loss'])\n",
    "plt.title('Model Loss')\n",
    "plt.xlabel('Epoch')\n",
    "plt.ylabel('Loss')\n",
    "plt.legend(['Train', 'Validation'], loc='upper right')\n",
    "plt.show()\n",
    "\n",
    "plt.plot(history.history['accuracy'])\n",
    "plt.plot(history.history['val_accuracy'])\n",
    "plt.title('Model Accuracy')\n",
    "plt.xlabel('Epoch')\n",
    "plt.ylabel('Accuracy')\n",
    "plt.legend(['Train', 'Validation'], loc='lower right')\n",
    "plt.show()"
   ]
  },
  {
   "cell_type": "markdown",
   "metadata": {
    "id": "9VKhsthFhi6N"
   },
   "source": [
    "***Model Evaluation***"
   ]
  },
  {
   "cell_type": "code",
   "execution_count": 31,
   "metadata": {
    "colab": {
     "base_uri": "https://localhost:8080/",
     "height": 0
    },
    "id": "-lIKSUYU9Etb",
    "outputId": "69201f72-fa8d-4ccb-e8ff-93a50ac639cc"
   },
   "outputs": [
    {
     "name": "stdout",
     "output_type": "stream",
     "text": [
      "313/313 [==============================] - 13s 41ms/step - loss: 0.0438 - accuracy: 0.9868\n",
      "Test accuracy: 0.9868000149726868\n"
     ]
    }
   ],
   "source": [
    "# Evaluate model on test set\n",
    "test_loss, test_acc = model.evaluate(x_test, y_test)\n",
    "print('Test accuracy:', test_acc)\n"
   ]
  },
  {
   "cell_type": "code",
   "execution_count": 32,
   "metadata": {
    "colab": {
     "base_uri": "https://localhost:8080/",
     "height": 0
    },
    "id": "208oIxtOTYfh",
    "outputId": "ed9ea84d-9cfb-41cc-cc1b-af0a0c308261"
   },
   "outputs": [
    {
     "name": "stdout",
     "output_type": "stream",
     "text": [
      "313/313 [==============================] - 14s 42ms/step\n",
      "Confusion matrix:\n",
      "[[[9016    4]\n",
      "  [  12  968]]\n",
      "\n",
      " [[8853   12]\n",
      "  [   1 1134]]\n",
      "\n",
      " [[8920   48]\n",
      "  [   0 1032]]\n",
      "\n",
      " [[8989    1]\n",
      "  [  21  989]]\n",
      "\n",
      " [[9014    4]\n",
      "  [  22  960]]\n",
      "\n",
      " [[9104    4]\n",
      "  [  10  882]]\n",
      "\n",
      " [[9034    8]\n",
      "  [   8  950]]\n",
      "\n",
      " [[8962   10]\n",
      "  [  27 1001]]\n",
      "\n",
      " [[9017    9]\n",
      "  [  26  948]]\n",
      "\n",
      " [[8975   16]\n",
      "  [  20  989]]]\n"
     ]
    }
   ],
   "source": [
    "import numpy as np\n",
    "from sklearn.metrics import multilabel_confusion_matrix\n",
    "\n",
    "y_pred = model.predict(x_test)\n",
    "\n",
    "y_pred_binary = np.round(y_pred)\n",
    "\n",
    "cm = multilabel_confusion_matrix(y_test, y_pred_binary)\n",
    "\n",
    "print(\"Confusion matrix:\")\n",
    "print(cm)\n"
   ]
  },
  {
   "cell_type": "markdown",
   "metadata": {
    "id": "XaNkdGzqCj_Q"
   },
   "source": [
    "Take 5 random images from Google and generate caption for that image. "
   ]
  },
  {
   "cell_type": "code",
   "execution_count": 49,
   "metadata": {
    "colab": {
     "base_uri": "https://localhost:8080/",
     "height": 0
    },
    "id": "P9eJhu85W4BE",
    "outputId": "b4275c37-19f2-4db1-d48a-caa643d0aba3"
   },
   "outputs": [
    {
     "name": "stdout",
     "output_type": "stream",
     "text": [
      "5\n",
      "1/1 [==============================] - 0s 35ms/step\n"
     ]
    }
   ],
   "source": [
    "import os\n",
    "import cv2\n",
    "import numpy as np\n",
    "import tensorflow as tf\n",
    "\n",
    "path = '/content/sample_data/Image'\n",
    "data = []\n",
    "labels = []\n",
    "\n",
    "for filename in os.listdir(path):\n",
    "    if filename.endswith('.png'):\n",
    "        img = cv2.imread(os.path.join(path, filename))\n",
    "        img = cv2.resize(img, (28, 28))\n",
    "        img = cv2.cvtColor(img, cv2.COLOR_BGR2GRAY)\n",
    "        label = filename\n",
    "        data.append(img)\n",
    "        labels.append(label)\n",
    "\n",
    "data = np.array(data)\n",
    "\n",
    "labels = np.array(labels)\n",
    "print(len(data))\n",
    "\n",
    "data = np.expand_dims(data, axis=-1)\n",
    "\n",
    "pred_t = model.predict(data)\n"
   ]
  },
  {
   "cell_type": "code",
   "execution_count": 53,
   "metadata": {
    "colab": {
     "base_uri": "https://localhost:8080/",
     "height": 1000
    },
    "id": "K3ZmnOunECOH",
    "outputId": "dbd044e5-70f8-4a29-fe73-44370474c05c"
   },
   "outputs": [
    {
     "data": {
      "image/png": "[encoded data removed]",
      "text/plain": [
       "<Figure size 432x288 with 1 Axes>"
      ]
     },
     "metadata": {
      "needs_background": "light"
     },
     "output_type": "display_data"
    },
    {
     "data": {
      "image/png": "[encoded data removed]",
      "text/plain": [
       "<Figure size 432x288 with 1 Axes>"
      ]
     },
     "metadata": {
      "needs_background": "light"
     },
     "output_type": "display_data"
    },
    {
     "data": {
      "image/png": "[encoded data removed]",
      "text/plain": [
       "<Figure size 432x288 with 1 Axes>"
      ]
     },
     "metadata": {
      "needs_background": "light"
     },
     "output_type": "display_data"
    },
    {
     "data": {
      "image/png": "[encoded data removed]",
      "text/plain": [
       "<Figure size 432x288 with 1 Axes>"
      ]
     },
     "metadata": {
      "needs_background": "light"
     },
     "output_type": "display_data"
    },
    {
     "data": {
      "image/png": "[encoded data removed]",
      "text/plain": [
       "<Figure size 432x288 with 1 Axes>"
      ]
     },
     "metadata": {
      "needs_background": "light"
     },
     "output_type": "display_data"
    }
   ],
   "source": [
    "import matplotlib.pyplot as plt\n",
    "\n",
    "for i in range(len(data)):\n",
    "    plt.imshow(data[i], cmap='gray')\n",
    "    plt.title(labels[i])\n",
    "    plt.show()\n"
   ]
  },
  {
   "cell_type": "code",
   "execution_count": 50,
   "metadata": {
    "colab": {
     "base_uri": "https://localhost:8080/",
     "height": 0
    },
    "id": "dWZJdprtX6kL",
    "outputId": "377d9d89-c5ae-4f57-fad4-e6a75605a138"
   },
   "outputs": [
    {
     "name": "stdout",
     "output_type": "stream",
     "text": [
      "[[2.3464945e-05 3.8579132e-03 2.9854311e-02 9.0560770e-01 1.1511862e-05\n",
      "  8.1303615e-06 1.5556642e-06 6.0342986e-02 2.8964618e-05 2.6339572e-04]\n",
      " [2.1251183e-04 1.8848201e-03 1.4081442e-03 1.1803533e-03 1.1841732e-04\n",
      "  1.7691224e-03 6.3419784e-03 5.0488070e-05 9.8580188e-01 1.2323017e-03]\n",
      " [6.7053122e-08 1.9968436e-06 3.6050689e-05 1.8143284e-07 3.8163711e-05\n",
      "  1.3063962e-04 9.9945420e-01 1.1589938e-07 3.3847100e-04 6.9727669e-08]\n",
      " [9.8742861e-01 5.1744114e-06 7.3458930e-03 4.8356902e-05 2.0062951e-03\n",
      "  3.9967944e-04 1.1707354e-04 1.9050970e-03 8.4908061e-06 7.3532667e-04]\n",
      " [8.1335020e-04 2.5657902e-04 3.0567318e-01 3.4225578e-04 6.6158280e-02\n",
      "  2.0559282e-05 7.3542749e-04 1.2170168e-02 6.1160153e-01 2.2287061e-03]]\n"
     ]
    }
   ],
   "source": [
    "print(pred_t)"
   ]
  },
  {
   "cell_type": "code",
   "execution_count": 51,
   "metadata": {
    "colab": {
     "base_uri": "https://localhost:8080/",
     "height": 0
    },
    "id": "6qks7VcRcpxc",
    "outputId": "f68fc85d-29d1-4d1c-bae2-adb5e8cdfdfc"
   },
   "outputs": [
    {
     "name": "stdout",
     "output_type": "stream",
     "text": [
      "\"t\", \"h\", \"r\", \"e\", \"e\"\n",
      "\"e\", \"i\", \"g\", \"h\", \"t\"\n",
      "\"s\", \"i\", \"x\"\n",
      "\"z\", \"e\", \"r\", \"o\"\n",
      "\"e\", \"i\", \"g\", \"h\", \"t\"\n"
     ]
    }
   ],
   "source": [
    "for a in range(0,len(pred_t)):\n",
    "    for i in range(0,len(pred_t[a])):\n",
    "      #print(a[i])\n",
    "      if pred_t[a][i]>0.55:\n",
    "        output_str = \"\"\n",
    "        for char in int_to_str[i]:\n",
    "          output_str += '\"' + char + '\", '\n",
    "        # Remove the extra space and comma at the end of the string\n",
    "        output_str = output_str[:-2]\n",
    "        print(output_str)"
   ]
  }
 ],
 "metadata": {
  "colab": {
   "provenance": []
  },
  "kernelspec": {
   "display_name": "Python 3 (ipykernel)",
   "language": "python",
   "name": "python3"
  },
  "language_info": {
   "codemirror_mode": {
    "name": "ipython",
    "version": 3
   },
   "file_extension": ".py",
   "mimetype": "text/x-python",
   "name": "python",
   "nbconvert_exporter": "python",
   "pygments_lexer": "ipython3",
   "version": "3.9.12"
  }
 },
 "nbformat": 4,
 "nbformat_minor": 1
}
